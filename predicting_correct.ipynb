{
 "cells": [
  {
   "cell_type": "code",
   "execution_count": 152,
   "metadata": {},
   "outputs": [],
   "source": [
    "from keras.preprocessing import sequence\n",
    "from keras.models import Sequential\n",
    "from keras.layers.core import Dense, Dropout, Activation,Flatten\n",
    "from keras.layers.embeddings import Embedding\n",
    "import logging\n",
    "import numpy as np\n",
    "import pandas as pd\n",
    "import math\n",
    "import numpy as np"
   ]
  },
  {
   "cell_type": "code",
   "execution_count": 70,
   "metadata": {},
   "outputs": [],
   "source": [
    "#將人工標註結果載入\n",
    "y_train = []\n",
    "data_path = r\"C:\\Users\\peihsuan\\Downloads\\17check_correct\\train_text.txt\"\n",
    "df = pd.read_csv(data_path,encoding='big5')  \n",
    "y_train = df['label']"
   ]
  },
  {
   "cell_type": "code",
   "execution_count": 71,
   "metadata": {},
   "outputs": [
    {
     "name": "stdout",
     "output_type": "stream",
     "text": [
      "0\n"
     ]
    }
   ],
   "source": [
    "print(y_train[0])"
   ]
  },
  {
   "cell_type": "code",
   "execution_count": 229,
   "metadata": {},
   "outputs": [],
   "source": [
    "#將學生答案載入\n",
    "train_text = []\n",
    "data_path = r\"C:\\Users\\peihsuan\\Downloads\\17check_correct\\text_embedding.csv\"\n",
    "#df = pd.read_csv(data_path,encoding= 'big5',names=['text','embeddings'])  \n",
    "df = pd.read_csv(data_path,encoding= 'big5',sep = ';') \n",
    "train_text = df['text']"
   ]
  },
  {
   "cell_type": "code",
   "execution_count": 230,
   "metadata": {},
   "outputs": [
    {
     "name": "stdout",
     "output_type": "stream",
     "text": [
      "夾\n"
     ]
    }
   ],
   "source": [
    "print(train_text[0])"
   ]
  },
  {
   "cell_type": "code",
   "execution_count": 233,
   "metadata": {},
   "outputs": [],
   "source": [
    "#將文字embedding作為其中一項feature儲存\n",
    "x_train_seq_tmp = []\n",
    "x_train_seq_tmp = df['embeddings']"
   ]
  },
  {
   "cell_type": "code",
   "execution_count": 235,
   "metadata": {
    "scrolled": true
   },
   "outputs": [],
   "source": [
    "#將embedding轉為數字陣列\n",
    "tmp = []\n",
    "x_train_seq = []\n",
    "for items in range(0,len(x_train_seq_tmp)):\n",
    "    tmp=np.fromstring(x_train_seq_tmp[items], dtype=float, sep=',')\n",
    "    x_train_seq.append(tmp)\n",
    "    tmp = []"
   ]
  },
  {
   "cell_type": "code",
   "execution_count": 236,
   "metadata": {},
   "outputs": [
    {
     "name": "stdout",
     "output_type": "stream",
     "text": [
      "861\n"
     ]
    }
   ],
   "source": [
    "print(len(train_text))"
   ]
  },
  {
   "cell_type": "code",
   "execution_count": 237,
   "metadata": {},
   "outputs": [
    {
     "name": "stdout",
     "output_type": "stream",
     "text": [
      "861\n"
     ]
    }
   ],
   "source": [
    "print(len(y_train))"
   ]
  },
  {
   "cell_type": "code",
   "execution_count": 267,
   "metadata": {},
   "outputs": [
    {
     "name": "stdout",
     "output_type": "stream",
     "text": [
      "250\n"
     ]
    }
   ],
   "source": [
    "print(len(x_train_seq[0]))"
   ]
  },
  {
   "cell_type": "code",
   "execution_count": 269,
   "metadata": {},
   "outputs": [],
   "source": [
    "#將訓練資料切分為訓練及測試\n",
    "train_size = int(len(train_text) * 0.8)\n",
    "train_textembedding, test_textembedding = x_train_seq[:train_size], x_train_seq[train_size:]\n",
    "y_train_predict, y_test_predict = y_train[:train_size],y_train[train_size:]"
   ]
  },
  {
   "cell_type": "code",
   "execution_count": 289,
   "metadata": {},
   "outputs": [
    {
     "name": "stdout",
     "output_type": "stream",
     "text": [
      "_________________________________________________________________\n",
      "Layer (type)                 Output Shape              Param #   \n",
      "=================================================================\n",
      "dense_39 (Dense)             (None, 256)               64256     \n",
      "_________________________________________________________________\n",
      "dropout_39 (Dropout)         (None, 256)               0         \n",
      "_________________________________________________________________\n",
      "dense_40 (Dense)             (None, 1)                 257       \n",
      "=================================================================\n",
      "Total params: 64,513\n",
      "Trainable params: 64,513\n",
      "Non-trainable params: 0\n",
      "_________________________________________________________________\n"
     ]
    }
   ],
   "source": [
    "#建立模型\n",
    "#* 平坦層: 共有 3,200 = 32 * 100 個神經元, 共有 100 個 Token 數字, 每一個 Token 使用 32 維度來表示數字 1-2000.\n",
    "#* 平坦層: 共有 250 個 Token 數字, 每一個 Token 使用 250 維度來表示數字 1.\n",
    "#* 隱藏層: 共有 256 個神經元\n",
    "#* 輸出層: 只有一個神經元. 1 表示正面; 0 表示負面.\n",
    "\n",
    "model = Sequential()\n",
    "#model.add(Embedding(output_dim=32,  input_dim=2000,  input_length=100))  \n",
    "#model.add(Embedding(output_dim=250,  input_dim=11,  input_length=250))\n",
    "#model.add(Dropout(0.2))\n",
    "#model.add(Flatten())\n",
    "model.add(Dense(units=256,activation='relu',input_dim=250 ))\n",
    "model.add(Dropout(0.2))\n",
    "model.add(Dense(units=1,activation='sigmoid' ))\n",
    "model.summary()"
   ]
  },
  {
   "cell_type": "code",
   "execution_count": 313,
   "metadata": {},
   "outputs": [],
   "source": [
    "model.compile(loss='binary_crossentropy', optimizer='adam', metrics=['accuracy'])"
   ]
  },
  {
   "cell_type": "code",
   "execution_count": 314,
   "metadata": {},
   "outputs": [
    {
     "name": "stdout",
     "output_type": "stream",
     "text": [
      "Train on 550 samples, validate on 138 samples\n",
      "Epoch 1/5\n",
      " - 1s - loss: 0.0511 - acc: 0.9855 - val_loss: 1.0576 - val_acc: 0.9058\n",
      "Epoch 2/5\n",
      " - 0s - loss: 0.0519 - acc: 0.9855 - val_loss: 1.0524 - val_acc: 0.9058\n",
      "Epoch 3/5\n",
      " - 0s - loss: 0.0471 - acc: 0.9855 - val_loss: 1.0292 - val_acc: 0.9130\n",
      "Epoch 4/5\n",
      " - 0s - loss: 0.0516 - acc: 0.9836 - val_loss: 1.0311 - val_acc: 0.9130\n",
      "Epoch 5/5\n",
      " - 0s - loss: 0.0498 - acc: 0.9855 - val_loss: 1.0311 - val_acc: 0.9130\n"
     ]
    }
   ],
   "source": [
    "train_history =model.fit(np.array(train_textembedding), np.array(y_train_predict),batch_size=5, epochs=5,verbose=2,validation_split=0.2)"
   ]
  },
  {
   "cell_type": "code",
   "execution_count": 293,
   "metadata": {},
   "outputs": [
    {
     "name": "stdout",
     "output_type": "stream",
     "text": [
      "Populating the interactive namespace from numpy and matplotlib\n"
     ]
    }
   ],
   "source": [
    "%pylab inline\n",
    "import matplotlib.pyplot as plt\n",
    "def show_train_history(train_history,train,validation):\n",
    "    plt.plot(train_history.history[train])\n",
    "    plt.plot(train_history.history[validation])\n",
    "    plt.title('Train History')\n",
    "    plt.ylabel(train)\n",
    "    plt.xlabel('Epoch')\n",
    "    plt.legend(['train', 'validation'], loc='upper left')\n",
    "    plt.show()"
   ]
  },
  {
   "cell_type": "code",
   "execution_count": 315,
   "metadata": {},
   "outputs": [
    {
     "data": {
      "image/png": "[encoded data removed]",
      "text/plain": [
       "<Figure size 432x288 with 1 Axes>"
      ]
     },
     "metadata": {},
     "output_type": "display_data"
    }
   ],
   "source": [
    "show_train_history(train_history,'acc','val_acc')"
   ]
  },
  {
   "cell_type": "code",
   "execution_count": 316,
   "metadata": {},
   "outputs": [
    {
     "data": {
      "image/png": "[encoded data removed]",
      "text/plain": [
       "<Figure size 432x288 with 1 Axes>"
      ]
     },
     "metadata": {},
     "output_type": "display_data"
    }
   ],
   "source": [
    "show_train_history(train_history,'loss','val_loss')"
   ]
  },
  {
   "cell_type": "code",
   "execution_count": 318,
   "metadata": {},
   "outputs": [
    {
     "name": "stdout",
     "output_type": "stream",
     "text": [
      "173/173 [==============================] - 0s 260us/step\n"
     ]
    },
    {
     "data": {
      "text/plain": [
       "0.8843930642728861"
      ]
     },
     "execution_count": 318,
     "metadata": {},
     "output_type": "execute_result"
    }
   ],
   "source": [
    "#測試準確率\n",
    "scores = model.evaluate(np.array(test_textembedding), np.array(y_test_predict), verbose=1)\n",
    "scores[1]"
   ]
  },
  {
   "cell_type": "code",
   "execution_count": 322,
   "metadata": {},
   "outputs": [],
   "source": [
    "#預測機率\n",
    "probility=model.predict(np.array(test_textembedding))"
   ]
  },
  {
   "cell_type": "code",
   "execution_count": 324,
   "metadata": {},
   "outputs": [],
   "source": [
    "predict=model.predict_classes(np.array(test_textembedding))"
   ]
  },
  {
   "cell_type": "code",
   "execution_count": 325,
   "metadata": {},
   "outputs": [
    {
     "data": {
      "text/plain": [
       "(173, 1)"
      ]
     },
     "execution_count": 325,
     "metadata": {},
     "output_type": "execute_result"
    }
   ],
   "source": [
    "predict.shape"
   ]
  },
  {
   "cell_type": "code",
   "execution_count": 334,
   "metadata": {},
   "outputs": [],
   "source": [
    "predict_classes=predict.reshape(173)"
   ]
  },
  {
   "cell_type": "raw",
   "metadata": {},
   "source": [
    "查看預測結果"
   ]
  },
  {
   "cell_type": "code",
   "execution_count": 328,
   "metadata": {},
   "outputs": [],
   "source": [
    "SentimentDict={1:'屬於A',0:'不屬於A'}\n",
    "def display_test_Sentiment(i):\n",
    "    print(train_text[i])\n",
    "    print('標籤label:',SentimentDict[y_train[i]],'預測結果:',SentimentDict[predict_classes[i]])"
   ]
  },
  {
   "cell_type": "code",
   "execution_count": 333,
   "metadata": {},
   "outputs": [
    {
     "name": "stdout",
     "output_type": "stream",
     "text": [
      "夾\n",
      "標籤label: 不屬於A 預測結果: 不屬於A\n",
      "\n",
      "\n",
      "衣服\n",
      "標籤label: 屬於A 預測結果: 不屬於A\n",
      "\n",
      "\n",
      "裁縫\n",
      "標籤label: 不屬於A 預測結果: 不屬於A\n",
      "\n",
      "\n",
      "白\n",
      "標籤label: 屬於A 預測結果: 不屬於A\n",
      "\n",
      "\n",
      "民生\n",
      "標籤label: 不屬於A 預測結果: 不屬於A\n",
      "\n",
      "\n",
      "用品\n",
      "標籤label: 屬於A 預測結果: 不屬於A\n",
      "\n",
      "\n",
      "白色\n",
      "標籤label: 屬於A 預測結果: 屬於A\n",
      "\n",
      "\n",
      "白色\n",
      "標籤label: 屬於A 預測結果: 不屬於A\n",
      "\n",
      "\n",
      "白色\n",
      "標籤label: 屬於A 預測結果: 屬於A\n",
      "\n",
      "\n",
      "裝\n",
      "標籤label: 不屬於A 預測結果: 不屬於A\n",
      "\n",
      "\n"
     ]
    }
   ],
   "source": [
    "for i in range(0,10):\n",
    "    display_test_Sentiment(i)\n",
    "    print(\"\\n\")"
   ]
  },
  {
   "cell_type": "code",
   "execution_count": null,
   "metadata": {},
   "outputs": [],
   "source": []
  }
 ],
 "metadata": {
  "kernelspec": {
   "display_name": "Python 3",
   "language": "python",
   "name": "python3"
  },
  "language_info": {
   "codemirror_mode": {
    "name": "ipython",
    "version": 3
   },
   "file_extension": ".py",
   "mimetype": "text/x-python",
   "name": "python",
   "nbconvert_exporter": "python",
   "pygments_lexer": "ipython3",
   "version": "3.5.5"
  }
 },
 "nbformat": 4,
 "nbformat_minor": 2
}
