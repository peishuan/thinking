{
 "cells": [
  {
   "cell_type": "code",
   "execution_count": 390,
   "metadata": {},
   "outputs": [],
   "source": [
    "from keras.preprocessing import sequence\n",
    "from keras.models import Sequential\n",
    "from keras.layers.core import Dense, Dropout, Activation,Flatten\n",
    "from keras.layers.embeddings import Embedding\n",
    "import logging\n",
    "import numpy as np\n",
    "import pandas as pd\n",
    "import math\n",
    "import numpy as np"
   ]
  },
  {
   "cell_type": "code",
   "execution_count": 392,
   "metadata": {},
   "outputs": [],
   "source": [
    "#將人工標註結果載入\n",
    "y_train = []\n",
    "data_path = r\"C:\\Users\\peihsuan\\Downloads\\17check_correct\\train_text.txt\"\n",
    "df = pd.read_csv(data_path,encoding='big5')  \n",
    "y_train = df['label']"
   ]
  },
  {
   "cell_type": "code",
   "execution_count": 393,
   "metadata": {},
   "outputs": [
    {
     "name": "stdout",
     "output_type": "stream",
     "text": [
      "0    0\n",
      "1    1\n",
      "2    0\n",
      "3    1\n",
      "4    0\n",
      "5    1\n",
      "6    1\n",
      "7    1\n",
      "8    1\n",
      "9    0\n",
      "Name: label, dtype: int64\n"
     ]
    }
   ],
   "source": [
    "print(y_train[0:10])"
   ]
  },
  {
   "cell_type": "code",
   "execution_count": 394,
   "metadata": {},
   "outputs": [],
   "source": [
    "#將學生答案載入\n",
    "train_text = []\n",
    "data_path = r\"C:\\Users\\peihsuan\\Downloads\\17check_correct\\text_embedding.csv\"\n",
    "#df = pd.read_csv(data_path,encoding= 'big5',names=['text','embeddings'])  \n",
    "df = pd.read_csv(data_path,encoding= 'big5',sep = ';') \n",
    "train_text = df['text']"
   ]
  },
  {
   "cell_type": "code",
   "execution_count": 395,
   "metadata": {},
   "outputs": [
    {
     "name": "stdout",
     "output_type": "stream",
     "text": [
      "0     夾\n",
      "1    衣服\n",
      "2    裁縫\n",
      "3     白\n",
      "4    民生\n",
      "5    用品\n",
      "6    白色\n",
      "7    白色\n",
      "8    白色\n",
      "9     裝\n",
      "Name: text, dtype: object\n"
     ]
    }
   ],
   "source": [
    "print(train_text[0:10])"
   ]
  },
  {
   "cell_type": "code",
   "execution_count": 396,
   "metadata": {},
   "outputs": [],
   "source": [
    "#將文字embedding作為其中一項feature儲存\n",
    "x_train_seq_tmp = []\n",
    "x_train_seq_tmp = df['embeddings']"
   ]
  },
  {
   "cell_type": "code",
   "execution_count": 397,
   "metadata": {
    "scrolled": true
   },
   "outputs": [],
   "source": [
    "#將embedding轉為數字陣列\n",
    "tmp = []\n",
    "x_train_seq = []\n",
    "for items in range(0,len(x_train_seq_tmp)):\n",
    "    tmp=np.fromstring(x_train_seq_tmp[items], dtype=float, sep=',')\n",
    "    x_train_seq.append(tmp)\n",
    "    tmp = []"
   ]
  },
  {
   "cell_type": "code",
   "execution_count": 398,
   "metadata": {},
   "outputs": [
    {
     "name": "stdout",
     "output_type": "stream",
     "text": [
      "861\n"
     ]
    }
   ],
   "source": [
    "print(len(train_text))"
   ]
  },
  {
   "cell_type": "code",
   "execution_count": 399,
   "metadata": {},
   "outputs": [
    {
     "name": "stdout",
     "output_type": "stream",
     "text": [
      "861\n"
     ]
    }
   ],
   "source": [
    "print(len(y_train))"
   ]
  },
  {
   "cell_type": "code",
   "execution_count": 400,
   "metadata": {},
   "outputs": [
    {
     "name": "stdout",
     "output_type": "stream",
     "text": [
      "250\n"
     ]
    }
   ],
   "source": [
    "print(len(x_train_seq[0]))"
   ]
  },
  {
   "cell_type": "code",
   "execution_count": 401,
   "metadata": {},
   "outputs": [
    {
     "name": "stdout",
     "output_type": "stream",
     "text": [
      "[ 1.49791613e-01  2.32222646e-01 -2.35129640e-01  1.40852228e-01\n",
      " -1.55842662e-01 -1.11387797e-01  7.35009387e-02  9.97459516e-02\n",
      " -3.09015125e-01 -8.17563385e-03  4.08757925e-02  3.01161647e-01\n",
      "  2.04978168e-01  2.93819653e-03 -8.32686424e-02 -1.80799752e-01\n",
      "  3.54098916e-01 -5.89631684e-02 -1.31971732e-01 -4.43562157e-02\n",
      "  2.73908615e-01 -2.13093743e-01  1.71275586e-02  2.80560672e-01\n",
      " -1.18280299e-01 -1.15898497e-01  6.96986392e-02  1.04522914e-01\n",
      "  8.83067995e-02  2.53624246e-02  8.51094946e-02 -9.82208624e-02\n",
      " -2.46052817e-02 -1.43778883e-03 -7.31849894e-02 -8.06608200e-02\n",
      "  3.63679975e-01 -1.07017249e-01 -2.29887813e-01 -4.89401296e-02\n",
      "  2.62912512e-01  5.20866178e-02  1.92555875e-01  1.98139727e-01\n",
      " -2.68179271e-02  5.70187926e-01  9.47752893e-02 -1.48098558e-01\n",
      " -2.63165504e-01 -2.65880078e-01  2.17050493e-01 -4.87297028e-02\n",
      "  2.56990433e-01  1.80252224e-01 -1.28927648e-01  4.10199136e-01\n",
      "  2.38294885e-01  1.97853059e-01  2.17554703e-01  1.05103571e-02\n",
      "  1.84963748e-01  4.83086845e-03 -2.37395674e-01  4.87218499e-01\n",
      " -1.46511346e-01  1.32589474e-01 -2.42264867e-01 -5.48737794e-02\n",
      "  9.92169604e-02  9.95284915e-02  7.74215981e-02  1.31641254e-01\n",
      " -2.72712588e-01  3.99019212e-01  2.87191663e-02 -1.42160088e-01\n",
      " -2.89906055e-01  4.86315012e-01 -8.40756595e-02  2.82563418e-01\n",
      "  3.22803333e-02  2.19963953e-01  3.84622030e-02 -2.40910530e-01\n",
      "  4.08281475e-01  1.43032745e-02  2.17702851e-01  9.68414396e-02\n",
      " -1.49941491e-03  2.33701686e-03 -3.08085233e-01  7.43332282e-02\n",
      " -1.89490646e-01 -5.37391365e-01 -2.75714636e-01 -1.52851939e-01\n",
      " -2.63002515e-02  1.99494675e-01 -4.07705635e-01 -3.34297717e-01\n",
      " -2.49144256e-01 -8.32702208e-04 -2.78991222e-01  2.39272520e-01\n",
      "  1.01014957e-01  1.80811107e-01  4.15196031e-01 -2.34691962e-03\n",
      " -1.80571869e-01 -2.19286740e-01 -1.12199932e-01  4.07424957e-01\n",
      " -3.57762694e-01 -6.41175508e-02 -1.98376417e-01  4.46878910e-01\n",
      " -5.25895581e-02 -2.62463808e-01 -3.91097926e-02  2.66684175e-01\n",
      "  7.29879066e-02  1.80750057e-01  6.12084866e-02 -3.28993708e-01\n",
      " -2.21447051e-01 -2.70007819e-01  3.73958230e-01 -2.66746096e-02\n",
      " -6.14466704e-03 -3.70808691e-01  2.35875297e-04 -4.64508444e-01\n",
      "  6.90484047e-02  2.32358694e-01  1.03119299e-01 -2.63752311e-01\n",
      " -3.42861384e-01 -3.53152975e-02 -1.49936676e-01 -4.47400481e-01\n",
      " -2.50438247e-02 -5.11270501e-02 -1.56253994e-01 -1.65600896e-01\n",
      " -5.04113793e-01 -3.06490511e-01 -2.59435654e-01 -1.64179504e-01\n",
      "  4.87793162e-02  3.20271224e-01  9.04286373e-03 -3.52881163e-01\n",
      " -2.21423492e-01 -1.53810903e-01  3.80111307e-01  1.05895407e-01\n",
      " -2.75663137e-01  1.96837276e-01 -1.78464890e-01  3.27665627e-01\n",
      "  2.39995550e-02  7.03017190e-02  8.36599171e-02  5.77064790e-03\n",
      "  1.06179891e-02  1.31343529e-01  4.61307794e-01  3.04099679e-01\n",
      " -1.85538471e-01 -2.92785734e-01 -2.33519495e-01 -3.02036345e-01\n",
      " -1.99693561e-01  4.55830060e-02 -3.38163227e-02 -5.49441427e-02\n",
      "  9.15401131e-02 -2.63116062e-01  2.59571150e-02  2.41065398e-01\n",
      "  1.48988813e-01 -3.78967524e-01  1.83076575e-01 -1.71534330e-01\n",
      " -1.23456284e-01 -1.56050831e-01  1.16194919e-01 -2.25281287e-02\n",
      " -3.21873099e-01  6.05057329e-02  4.40157466e-02  3.60337719e-02\n",
      "  2.17173949e-01  2.16185838e-01  2.68468857e-01  1.46458209e-01\n",
      "  2.38196418e-01 -1.33531213e-01  7.73180351e-02  1.26785845e-01\n",
      " -4.11677897e-01  7.35010803e-02  1.36418222e-02 -1.10529333e-01\n",
      "  2.51910090e-01  3.10405165e-01 -2.60251552e-01 -2.86402136e-01\n",
      " -2.21498013e-02 -9.06428993e-02 -2.97376603e-01 -5.78624189e-01\n",
      "  1.36333004e-01 -4.40131687e-02  1.68122023e-01  2.38413870e-01\n",
      "  8.83914977e-02 -2.20025569e-01 -2.09105592e-02  1.20385870e-01\n",
      " -3.03442687e-01  7.79326558e-02 -1.31046265e-01 -1.77178322e-03\n",
      " -1.12020984e-01 -1.48887098e-01 -4.94075626e-01 -3.14636044e-02\n",
      " -1.92556843e-01 -1.49156034e-01 -1.90714419e-01  3.88702787e-02\n",
      " -2.68025011e-01 -1.54899759e-02 -4.26623493e-01  1.46995559e-01\n",
      "  1.47339433e-01  2.15114087e-01 -3.11627746e-01 -3.10009390e-01\n",
      "  1.27571419e-01 -4.39542271e-02  5.75484000e-02  3.42785001e-01\n",
      "  3.34859155e-02 -1.31984308e-01 -2.09681958e-01  2.13305339e-01\n",
      "  3.16962391e-01  4.20912296e-01]\n"
     ]
    }
   ],
   "source": [
    "print((x_train_seq[0]))"
   ]
  },
  {
   "cell_type": "code",
   "execution_count": 404,
   "metadata": {},
   "outputs": [],
   "source": [
    "#將訓練資料切分為訓練及測試\n",
    "train_size = int(len(train_text) * 0.8)\n",
    "train_textembedding, test_textembedding = x_train_seq[:train_size], x_train_seq[train_size:]\n",
    "y_train_predict, y_test_predict = y_train[:train_size],y_train[train_size:]"
   ]
  },
  {
   "cell_type": "code",
   "execution_count": 405,
   "metadata": {},
   "outputs": [
    {
     "name": "stdout",
     "output_type": "stream",
     "text": [
      "_________________________________________________________________\n",
      "Layer (type)                 Output Shape              Param #   \n",
      "=================================================================\n",
      "dense_47 (Dense)             (None, 256)               64256     \n",
      "_________________________________________________________________\n",
      "dropout_43 (Dropout)         (None, 256)               0         \n",
      "_________________________________________________________________\n",
      "dense_48 (Dense)             (None, 1)                 257       \n",
      "=================================================================\n",
      "Total params: 64,513\n",
      "Trainable params: 64,513\n",
      "Non-trainable params: 0\n",
      "_________________________________________________________________\n"
     ]
    }
   ],
   "source": [
    "#建立模型\n",
    "#* 平坦層: 共有 3,200 = 32 * 100 個神經元, 共有 100 個 Token 數字, 每一個 Token 使用 32 維度來表示數字 1-2000.\n",
    "#* 平坦層: 共有 250 個 Token 數字, 每一個 Token 使用 250 維度來表示數字 1.\n",
    "#* 隱藏層: 共有 256 個神經元\n",
    "#* 輸出層: 只有一個神經元. 1 表示正面; 0 表示負面.\n",
    "\n",
    "model = Sequential()\n",
    "#model.add(Embedding(output_dim=32,  input_dim=2000,  input_length=100))  \n",
    "#model.add(Embedding(output_dim=250,  input_dim=11,  input_length=250))\n",
    "#model.add(Dropout(0.2))\n",
    "#model.add(Flatten())\n",
    "model.add(Dense(units=256,activation='relu',input_dim=250 ))\n",
    "model.add(Dropout(0.2))\n",
    "model.add(Dense(units=1,activation='sigmoid' ))\n",
    "model.summary()"
   ]
  },
  {
   "cell_type": "code",
   "execution_count": 406,
   "metadata": {},
   "outputs": [],
   "source": [
    "model.compile(loss='binary_crossentropy', optimizer='adam', metrics=['accuracy'])"
   ]
  },
  {
   "cell_type": "code",
   "execution_count": 407,
   "metadata": {},
   "outputs": [
    {
     "name": "stdout",
     "output_type": "stream",
     "text": [
      "Train on 550 samples, validate on 138 samples\n",
      "Epoch 1/5\n",
      " - 1s - loss: 0.4535 - acc: 0.7927 - val_loss: 0.3849 - val_acc: 0.8478\n",
      "Epoch 2/5\n",
      " - 0s - loss: 0.2939 - acc: 0.8727 - val_loss: 0.2957 - val_acc: 0.8841\n",
      "Epoch 3/5\n",
      " - 0s - loss: 0.2212 - acc: 0.9145 - val_loss: 0.2841 - val_acc: 0.8551\n",
      "Epoch 4/5\n",
      " - 0s - loss: 0.1789 - acc: 0.9455 - val_loss: 0.2761 - val_acc: 0.8551\n",
      "Epoch 5/5\n",
      " - 0s - loss: 0.1563 - acc: 0.9455 - val_loss: 0.2388 - val_acc: 0.8986\n"
     ]
    }
   ],
   "source": [
    "train_history =model.fit(np.array(train_textembedding), np.array(y_train_predict),batch_size=5, epochs=5,verbose=2,validation_split=0.2)"
   ]
  },
  {
   "cell_type": "code",
   "execution_count": 408,
   "metadata": {},
   "outputs": [
    {
     "name": "stdout",
     "output_type": "stream",
     "text": [
      "Populating the interactive namespace from numpy and matplotlib\n"
     ]
    }
   ],
   "source": [
    "%pylab inline\n",
    "import matplotlib.pyplot as plt\n",
    "def show_train_history(train_history,train,validation):\n",
    "    plt.plot(train_history.history[train])\n",
    "    plt.plot(train_history.history[validation])\n",
    "    plt.title('Train History')\n",
    "    plt.ylabel(train)\n",
    "    plt.xlabel('Epoch')\n",
    "    plt.legend(['train', 'validation'], loc='upper left')\n",
    "    plt.show()"
   ]
  },
  {
   "cell_type": "code",
   "execution_count": 409,
   "metadata": {},
   "outputs": [
    {
     "data": {
      "image/png": "[encoded data removed]",
      "text/plain": [
       "<Figure size 432x288 with 1 Axes>"
      ]
     },
     "metadata": {},
     "output_type": "display_data"
    }
   ],
   "source": [
    "show_train_history(train_history,'acc','val_acc')"
   ]
  },
  {
   "cell_type": "code",
   "execution_count": 410,
   "metadata": {},
   "outputs": [
    {
     "data": {
      "image/png": "[encoded data removed]",
      "text/plain": [
       "<Figure size 432x288 with 1 Axes>"
      ]
     },
     "metadata": {},
     "output_type": "display_data"
    }
   ],
   "source": [
    "show_train_history(train_history,'loss','val_loss')"
   ]
  },
  {
   "cell_type": "code",
   "execution_count": 411,
   "metadata": {},
   "outputs": [
    {
     "name": "stdout",
     "output_type": "stream",
     "text": [
      "173/173 [==============================] - 0s 29us/step\n"
     ]
    },
    {
     "data": {
      "text/plain": [
       "0.8786127167630058"
      ]
     },
     "execution_count": 411,
     "metadata": {},
     "output_type": "execute_result"
    }
   ],
   "source": [
    "#測試準確率\n",
    "scores = model.evaluate(np.array(test_textembedding), np.array(y_test_predict), verbose=1)\n",
    "scores[1]"
   ]
  },
  {
   "cell_type": "code",
   "execution_count": 412,
   "metadata": {},
   "outputs": [],
   "source": [
    "#預測機率\n",
    "probility=model.predict(np.array(test_textembedding))"
   ]
  },
  {
   "cell_type": "code",
   "execution_count": 384,
   "metadata": {},
   "outputs": [],
   "source": [
    "predict=model.predict_classes(np.array(test_textembedding))"
   ]
  },
  {
   "cell_type": "code",
   "execution_count": 413,
   "metadata": {},
   "outputs": [
    {
     "data": {
      "text/plain": [
       "(173, 1)"
      ]
     },
     "execution_count": 413,
     "metadata": {},
     "output_type": "execute_result"
    }
   ],
   "source": [
    "predict.shape"
   ]
  },
  {
   "cell_type": "code",
   "execution_count": 414,
   "metadata": {},
   "outputs": [],
   "source": [
    "predict_classes=predict.reshape(173)"
   ]
  },
  {
   "cell_type": "raw",
   "metadata": {},
   "source": [
    "查看預測結果"
   ]
  },
  {
   "cell_type": "code",
   "execution_count": 415,
   "metadata": {},
   "outputs": [],
   "source": [
    "SentimentDict={1:'屬於A',0:'不屬於A'}\n",
    "def display_test_Sentiment(i):\n",
    "    print(train_text[i])\n",
    "    print('標籤label:',SentimentDict[y_train[i]],'預測結果:',SentimentDict[predict_classes[i]])"
   ]
  },
  {
   "cell_type": "code",
   "execution_count": 417,
   "metadata": {},
   "outputs": [
    {
     "name": "stdout",
     "output_type": "stream",
     "text": [
      "夾\n",
      "標籤label: 不屬於A 預測結果: 不屬於A\n",
      "\n",
      "\n",
      "衣服\n",
      "標籤label: 屬於A 預測結果: 不屬於A\n",
      "\n",
      "\n",
      "裁縫\n",
      "標籤label: 不屬於A 預測結果: 不屬於A\n",
      "\n",
      "\n",
      "白\n",
      "標籤label: 屬於A 預測結果: 不屬於A\n",
      "\n",
      "\n",
      "民生\n",
      "標籤label: 不屬於A 預測結果: 不屬於A\n",
      "\n",
      "\n",
      "用品\n",
      "標籤label: 屬於A 預測結果: 不屬於A\n",
      "\n",
      "\n",
      "白色\n",
      "標籤label: 屬於A 預測結果: 屬於A\n",
      "\n",
      "\n",
      "白色\n",
      "標籤label: 屬於A 預測結果: 屬於A\n",
      "\n",
      "\n",
      "白色\n",
      "標籤label: 屬於A 預測結果: 屬於A\n",
      "\n",
      "\n",
      "裝\n",
      "標籤label: 不屬於A 預測結果: 不屬於A\n",
      "\n",
      "\n",
      "衣服\n",
      "標籤label: 屬於A 預測結果: 屬於A\n",
      "\n",
      "\n",
      "白色\n",
      "標籤label: 屬於A 預測結果: 不屬於A\n",
      "\n",
      "\n",
      "固體\n",
      "標籤label: 屬於A 預測結果: 不屬於A\n",
      "\n",
      "\n",
      "物資\n",
      "標籤label: 屬於A 預測結果: 不屬於A\n",
      "\n",
      "\n",
      "顏色\n",
      "標籤label: 不屬於A 預測結果: 不屬於A\n",
      "\n",
      "\n",
      "相似\n",
      "標籤label: 不屬於A 預測結果: 屬於A\n",
      "\n",
      "\n",
      "上班族\n",
      "標籤label: 不屬於A 預測結果: 不屬於A\n",
      "\n",
      "\n",
      "貨物\n",
      "標籤label: 屬於A 預測結果: 屬於A\n",
      "\n",
      "\n",
      "顏色\n",
      "標籤label: 不屬於A 預測結果: 屬於A\n",
      "\n",
      "\n",
      "髒\n",
      "標籤label: 不屬於A 預測結果: 不屬於A\n",
      "\n",
      "\n"
     ]
    }
   ],
   "source": [
    "for i in range(0,20):\n",
    "    display_test_Sentiment(i)\n",
    "    print(\"\\n\")"
   ]
  },
  {
   "cell_type": "code",
   "execution_count": null,
   "metadata": {},
   "outputs": [],
   "source": []
  }
 ],
 "metadata": {
  "kernelspec": {
   "display_name": "Python 3",
   "language": "python",
   "name": "python3"
  },
  "language_info": {
   "codemirror_mode": {
    "name": "ipython",
    "version": 3
   },
   "file_extension": ".py",
   "mimetype": "text/x-python",
   "name": "python",
   "nbconvert_exporter": "python",
   "pygments_lexer": "ipython3",
   "version": "3.5.5"
  }
 },
 "nbformat": 4,
 "nbformat_minor": 2
}
