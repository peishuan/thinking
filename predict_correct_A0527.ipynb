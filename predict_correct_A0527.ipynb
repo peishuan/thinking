{
 "cells": [
  {
   "cell_type": "code",
   "execution_count": 1,
   "metadata": {},
   "outputs": [
    {
     "name": "stderr",
     "output_type": "stream",
     "text": [
      "Using TensorFlow backend.\n"
     ]
    }
   ],
   "source": [
    "from keras.preprocessing import sequence\n",
    "from keras.models import Sequential\n",
    "from keras.layers.core import Dense, Dropout, Activation,Flatten\n",
    "from keras.layers.embeddings import Embedding\n",
    "import logging\n",
    "import numpy as np\n",
    "import pandas as pd\n",
    "import math\n",
    "import numpy as np"
   ]
  },
  {
   "cell_type": "code",
   "execution_count": 2,
   "metadata": {},
   "outputs": [],
   "source": [
    "#將人工標註結果載入\n",
    "y_train = []\n",
    "data_path = r\"C:\\Users\\peihsuan\\Downloads\\18check_correct_inwholeA\\train_text_whole.txt\"\n",
    "df = pd.read_csv(data_path,encoding='big5')  \n",
    "y_train = df['label']"
   ]
  },
  {
   "cell_type": "code",
   "execution_count": 4,
   "metadata": {},
   "outputs": [
    {
     "name": "stdout",
     "output_type": "stream",
     "text": [
      "862    0\n",
      "863    0\n",
      "864    0\n",
      "865    0\n",
      "866    0\n",
      "867    0\n",
      "868    0\n",
      "869    0\n",
      "870    0\n",
      "871    0\n",
      "Name: label, dtype: int64\n"
     ]
    }
   ],
   "source": [
    "#自第862筆起，都是作答未含有A的部分，因此皆為0\n",
    "print(y_train[862:872])"
   ]
  },
  {
   "cell_type": "code",
   "execution_count": 58,
   "metadata": {},
   "outputs": [],
   "source": [
    "#將學生答案載入\n",
    "train_text = []\n",
    "data_path = r\"C:\\Users\\peihsuan\\Downloads\\18check_correct_inwholeA\\text_embedding_whole.csv\"\n",
    "#df = pd.read_csv(data_path,encoding= 'big5',names=['text','embeddings'])  \n",
    "df = pd.read_csv(data_path,encoding= 'utf-8',sep = ';') \n",
    "train_text = df['text']"
   ]
  },
  {
   "cell_type": "code",
   "execution_count": 59,
   "metadata": {},
   "outputs": [
    {
     "name": "stdout",
     "output_type": "stream",
     "text": [
      "862    生命\n",
      "863    植物\n",
      "864    自然\n",
      "865    自然\n",
      "866    褐色\n",
      "867    自然\n",
      "868    棕色\n",
      "869    堅硬\n",
      "870    曲線\n",
      "871    影子\n",
      "Name: text, dtype: object\n"
     ]
    }
   ],
   "source": [
    "print(train_text[862:872])"
   ]
  },
  {
   "cell_type": "code",
   "execution_count": 60,
   "metadata": {},
   "outputs": [],
   "source": [
    "#將文字embedding作為其中一項feature儲存\n",
    "x_train_seq_tmp = []\n",
    "x_train_seq_tmp = df['embeddings']"
   ]
  },
  {
   "cell_type": "code",
   "execution_count": 61,
   "metadata": {},
   "outputs": [],
   "source": [
    "#將embedding轉為數字陣列\n",
    "tmp = []\n",
    "x_train_seq = []\n",
    "for items in range(0,len(x_train_seq_tmp)):\n",
    "    tmp=np.fromstring(x_train_seq_tmp[items], dtype=float, sep=',')\n",
    "    x_train_seq.append(tmp)\n",
    "    tmp = []"
   ]
  },
  {
   "cell_type": "code",
   "execution_count": 62,
   "metadata": {},
   "outputs": [
    {
     "name": "stdout",
     "output_type": "stream",
     "text": [
      "1672\n"
     ]
    }
   ],
   "source": [
    "print(len(train_text))"
   ]
  },
  {
   "cell_type": "code",
   "execution_count": 63,
   "metadata": {},
   "outputs": [
    {
     "name": "stdout",
     "output_type": "stream",
     "text": [
      "1672\n"
     ]
    }
   ],
   "source": [
    "print(len(y_train))"
   ]
  },
  {
   "cell_type": "code",
   "execution_count": 64,
   "metadata": {},
   "outputs": [
    {
     "name": "stdout",
     "output_type": "stream",
     "text": [
      "250\n"
     ]
    }
   ],
   "source": [
    "print(len(x_train_seq[872]))"
   ]
  },
  {
   "cell_type": "code",
   "execution_count": 65,
   "metadata": {},
   "outputs": [
    {
     "name": "stdout",
     "output_type": "stream",
     "text": [
      "[-0.17871532  0.3275969  -0.13815549  0.11346178  0.07406721 -0.05331555\n",
      "  0.09324779 -0.03590165 -0.12160562  0.37375319  0.05066568 -0.09996205\n",
      "  0.30667022  0.08060334 -0.12705292 -0.18542612  0.10800983 -0.04439498\n",
      " -0.09449241  0.01066216  0.22533655 -0.28405926 -0.16298757 -0.06576513\n",
      " -0.03786943 -0.30001861 -0.21145546  0.208505   -0.07067376  0.29221401\n",
      "  0.05062958 -0.09955449  0.13321896  0.04315663  0.23640817  0.17135614\n",
      " -0.05146843  0.02787131 -0.36337423  0.27222037  0.00338677  0.1918648\n",
      " -0.06468341  0.16913645  0.0768724   0.0007758  -0.23786333 -0.04142836\n",
      " -0.02507459  0.04917258 -0.26214105  0.03045104 -0.07877079  0.01853572\n",
      "  0.30149296  0.2289355   0.12401126 -0.25070283 -0.2238979  -0.36232638\n",
      "  0.01663214 -0.05234717  0.02572026 -0.00474615 -0.14160311  0.06501351\n",
      " -0.04393177 -0.14246726 -0.25501508  0.38475609 -0.05502664  0.17686668\n",
      " -0.15825549 -0.09729473  0.01762843  0.0800174  -0.18913019 -0.37965769\n",
      "  0.08869988  0.39510483 -0.15453562  0.2141884  -0.08081213 -0.15652144\n",
      "  0.25008452 -0.21001007  0.04205081 -0.02413591  0.00921012  0.15863055\n",
      " -0.25069076 -0.07657556 -0.18926913  0.11015371 -0.14160006 -0.2854546\n",
      " -0.01299473 -0.03008621  0.11982496  0.1034053  -0.30907035 -0.20204131\n",
      "  0.10400913  0.0871985   0.24670735 -0.05168909  0.18011636 -0.1234307\n",
      " -0.01806933 -0.07409884 -0.14049372  0.3244704  -0.17839651  0.27843934\n",
      " -0.02069242  0.24765407 -0.25478104  0.06852958 -0.04587911  0.26085156\n",
      "  0.11775948 -0.11173768  0.3245284  -0.11161728 -0.49892914 -0.01912867\n",
      "  0.39004129  0.33963186 -0.02748182  0.19051933  0.01839815  0.03861548\n",
      "  0.03247799  0.04457057  0.32342911 -0.01730014 -0.44254303  0.09740935\n",
      " -0.06457042 -0.17946076 -0.0627996  -0.00686601  0.03756177 -0.26808047\n",
      " -0.08036815 -0.06707074 -0.18364254 -0.0416238  -0.10948316  0.08733442\n",
      "  0.3132228   0.11778422 -0.06374973 -0.34861028  0.04470634 -0.07622275\n",
      " -0.39089766  0.04157302  0.12589821  0.12761103  0.33958638 -0.00845314\n",
      " -0.04620973 -0.03081048 -0.07632566  0.10930213  0.36907396  0.13317014\n",
      " -0.31295228 -0.14278258  0.22386764  0.02823059  0.12012006 -0.15465859\n",
      " -0.10118141  0.25379431  0.23343149  0.23976138 -0.06633486  0.10615303\n",
      " -0.0113549  -0.06320004  0.30258566 -0.12272489 -0.05342999 -0.24877852\n",
      "  0.07480691  0.06464538  0.07943598 -0.08723611  0.02835972  0.12314968\n",
      " -0.02694825 -0.1744197  -0.22206633  0.00247945  0.13765603 -0.15508252\n",
      " -0.00360139  0.05402359 -0.07975903 -0.16316238 -0.02348813  0.09119257\n",
      "  0.33900154  0.00810377  0.2016737  -0.03535519  0.19871442 -0.40599996\n",
      " -0.02300064 -0.03238106  0.18648478  0.07673825  0.34552974  0.15825452\n",
      "  0.13111623 -0.00293455  0.02618234  0.03588939  0.29865509  0.0568331\n",
      "  0.05315846 -0.07163864 -0.04123289 -0.11382648 -0.05875828 -0.09300337\n",
      "  0.15881217  0.20976219 -0.17756058 -0.06046037 -0.35641634 -0.12444009\n",
      " -0.16617006  0.32346132  0.33015797  0.2338258   0.13231127  0.12284046\n",
      " -0.19361314 -0.45817676  0.18382277  0.19956842  0.07583111 -0.04082428\n",
      " -0.14656723 -0.06162428  0.04966462  0.0640326 ]\n"
     ]
    }
   ],
   "source": [
    "print((x_train_seq[872]))"
   ]
  },
  {
   "cell_type": "code",
   "execution_count": 66,
   "metadata": {},
   "outputs": [],
   "source": [
    "#將訓練資料切分為訓練及測試\n",
    "train_size = int(len(train_text) * 0.8)\n",
    "train_textembedding, test_textembedding = x_train_seq[:train_size], x_train_seq[train_size:]\n",
    "y_train_predict, y_test_predict = y_train[:train_size],y_train[train_size:]"
   ]
  },
  {
   "cell_type": "code",
   "execution_count": 68,
   "metadata": {},
   "outputs": [
    {
     "name": "stdout",
     "output_type": "stream",
     "text": [
      "_________________________________________________________________\n",
      "Layer (type)                 Output Shape              Param #   \n",
      "=================================================================\n",
      "dense_15 (Dense)             (None, 100)               25100     \n",
      "_________________________________________________________________\n",
      "dropout_8 (Dropout)          (None, 100)               0         \n",
      "_________________________________________________________________\n",
      "dense_16 (Dense)             (None, 1)                 101       \n",
      "=================================================================\n",
      "Total params: 25,201\n",
      "Trainable params: 25,201\n",
      "Non-trainable params: 0\n",
      "_________________________________________________________________\n"
     ]
    }
   ],
   "source": [
    "#建立模型\n",
    "#* 平坦層: 共有 3,200 = 32 * 100 個神經元, 共有 100 個 Token 數字, 每一個 Token 使用 32 維度來表示數字 1-2000.\n",
    "#* 平坦層: 共有 250 個 Token 數字, 每一個 Token 使用 250 維度來表示數字 1.\n",
    "#* 隱藏層: 共有 256 個神經元\n",
    "#* 輸出層: 只有一個神經元. 1 表示正面; 0 表示負面.\n",
    "\n",
    "model = Sequential()\n",
    "#model.add(Embedding(output_dim=32,  input_dim=2000,  input_length=100))  \n",
    "#model.add(Embedding(output_dim=250,  input_dim=11,  input_length=250))\n",
    "#model.add(Dropout(0.2))\n",
    "#model.add(Flatten())\n",
    "model.add(Dense(units=100,activation='relu',input_dim=250))\n",
    "model.add(Dropout(0.2))\n",
    "model.add(Dense(units=1,activation='sigmoid' ))\n",
    "model.summary()"
   ]
  },
  {
   "cell_type": "code",
   "execution_count": 69,
   "metadata": {},
   "outputs": [],
   "source": [
    "model.compile(loss='binary_crossentropy', optimizer='adam', metrics=['accuracy'])"
   ]
  },
  {
   "cell_type": "code",
   "execution_count": 70,
   "metadata": {},
   "outputs": [
    {
     "name": "stdout",
     "output_type": "stream",
     "text": [
      "Train on 1069 samples, validate on 268 samples\n",
      "Epoch 1/5\n",
      " - 0s - loss: 0.4704 - acc: 0.7989 - val_loss: 0.2060 - val_acc: 0.9851\n",
      "Epoch 2/5\n",
      " - 0s - loss: 0.3176 - acc: 0.8765 - val_loss: 0.1513 - val_acc: 0.9851\n",
      "Epoch 3/5\n",
      " - 0s - loss: 0.2489 - acc: 0.9074 - val_loss: 0.1358 - val_acc: 0.9701\n",
      "Epoch 4/5\n",
      " - 0s - loss: 0.2101 - acc: 0.9308 - val_loss: 0.1715 - val_acc: 0.9366\n",
      "Epoch 5/5\n",
      " - 0s - loss: 0.1850 - acc: 0.9373 - val_loss: 0.1462 - val_acc: 0.9366\n"
     ]
    }
   ],
   "source": [
    "train_history =model.fit(np.array(train_textembedding), np.array(y_train_predict),batch_size=10, epochs=5,verbose=2,validation_split=0.2)"
   ]
  },
  {
   "cell_type": "code",
   "execution_count": 71,
   "metadata": {},
   "outputs": [
    {
     "name": "stdout",
     "output_type": "stream",
     "text": [
      "Populating the interactive namespace from numpy and matplotlib\n"
     ]
    }
   ],
   "source": [
    "%pylab inline\n",
    "import matplotlib.pyplot as plt\n",
    "def show_train_history(train_history,train,validation):\n",
    "    plt.plot(train_history.history[train])\n",
    "    plt.plot(train_history.history[validation])\n",
    "    plt.title('Train History')\n",
    "    plt.ylabel(train)\n",
    "    plt.xlabel('Epoch')\n",
    "    plt.legend(['train', 'validation'], loc='upper left')\n",
    "    plt.show()"
   ]
  },
  {
   "cell_type": "code",
   "execution_count": 72,
   "metadata": {},
   "outputs": [
    {
     "data": {
      "image/png": "[encoded data removed]",
      "text/plain": [
       "<Figure size 432x288 with 1 Axes>"
      ]
     },
     "metadata": {},
     "output_type": "display_data"
    }
   ],
   "source": [
    "show_train_history(train_history,'acc','val_acc')"
   ]
  },
  {
   "cell_type": "code",
   "execution_count": 73,
   "metadata": {},
   "outputs": [
    {
     "data": {
      "image/png": "[encoded data removed]",
      "text/plain": [
       "<Figure size 432x288 with 1 Axes>"
      ]
     },
     "metadata": {},
     "output_type": "display_data"
    }
   ],
   "source": [
    "show_train_history(train_history,'loss','val_loss')"
   ]
  },
  {
   "cell_type": "code",
   "execution_count": 74,
   "metadata": {},
   "outputs": [
    {
     "name": "stdout",
     "output_type": "stream",
     "text": [
      "335/335 [==============================] - 0s 17us/step\n"
     ]
    },
    {
     "data": {
      "text/plain": [
       "0.8985074630424158"
      ]
     },
     "execution_count": 74,
     "metadata": {},
     "output_type": "execute_result"
    }
   ],
   "source": [
    "#測試準確率\n",
    "scores = model.evaluate(np.array(test_textembedding), np.array(y_test_predict), verbose=1)\n",
    "scores[1]"
   ]
  },
  {
   "cell_type": "code",
   "execution_count": 75,
   "metadata": {},
   "outputs": [],
   "source": [
    "#預測機率\n",
    "probility=model.predict(np.array(test_textembedding))"
   ]
  },
  {
   "cell_type": "code",
   "execution_count": 76,
   "metadata": {},
   "outputs": [],
   "source": [
    "predict=model.predict_classes(np.array(test_textembedding))"
   ]
  },
  {
   "cell_type": "code",
   "execution_count": 77,
   "metadata": {},
   "outputs": [
    {
     "data": {
      "text/plain": [
       "(335, 1)"
      ]
     },
     "execution_count": 77,
     "metadata": {},
     "output_type": "execute_result"
    }
   ],
   "source": [
    "predict.shape"
   ]
  },
  {
   "cell_type": "code",
   "execution_count": 78,
   "metadata": {},
   "outputs": [],
   "source": [
    "predict_classes=predict.reshape(335)"
   ]
  },
  {
   "cell_type": "raw",
   "metadata": {},
   "source": [
    "查看預測結果"
   ]
  },
  {
   "cell_type": "code",
   "execution_count": 79,
   "metadata": {},
   "outputs": [],
   "source": [
    "SentimentDict={1:'屬於A',0:'不屬於A'}\n",
    "def display_test_Sentiment(i):\n",
    "    print(train_text[i])\n",
    "    print('標籤label:',SentimentDict[y_train[i]],'預測結果:',SentimentDict[predict_classes[i]])"
   ]
  },
  {
   "cell_type": "code",
   "execution_count": 81,
   "metadata": {},
   "outputs": [
    {
     "name": "stdout",
     "output_type": "stream",
     "text": [
      "白色\n",
      "標籤label: 屬於A 預測結果: 屬於A\n",
      "\n",
      "\n",
      "每日\n",
      "標籤label: 不屬於A 預測結果: 不屬於A\n",
      "\n",
      "\n",
      "碰到\n",
      "標籤label: 不屬於A 預測結果: 不屬於A\n",
      "\n",
      "\n",
      "裡面\n",
      "標籤label: 不屬於A 預測結果: 不屬於A\n",
      "\n",
      "\n",
      "包含\n",
      "標籤label: 不屬於A 預測結果: 不屬於A\n",
      "\n",
      "\n",
      "東西\n",
      "標籤label: 屬於A 預測結果: 不屬於A\n",
      "\n",
      "\n",
      "濕\n",
      "標籤label: 不屬於A 預測結果: 不屬於A\n",
      "\n",
      "\n",
      "不\n",
      "標籤label: 不屬於A 預測結果: 不屬於A\n",
      "\n",
      "\n",
      "舒服\n",
      "標籤label: 不屬於A 預測結果: 不屬於A\n",
      "\n",
      "\n",
      "破壞\n",
      "標籤label: 不屬於A 預測結果: 不屬於A\n",
      "\n",
      "\n",
      "改變\n",
      "標籤label: 不屬於A 預測結果: 不屬於A\n",
      "\n",
      "\n",
      "造型\n",
      "標籤label: 不屬於A 預測結果: 不屬於A\n",
      "\n",
      "\n",
      "白色\n",
      "標籤label: 屬於A 預測結果: 屬於A\n",
      "\n",
      "\n",
      "白色\n",
      "標籤label: 屬於A 預測結果: 不屬於A\n",
      "\n",
      "\n"
     ]
    }
   ],
   "source": [
    "for i in range(321,335):\n",
    "    display_test_Sentiment(i)\n",
    "    print(\"\\n\")"
   ]
  },
  {
   "cell_type": "code",
   "execution_count": null,
   "metadata": {},
   "outputs": [],
   "source": []
  }
 ],
 "metadata": {
  "kernelspec": {
   "display_name": "Python 3",
   "language": "python",
   "name": "python3"
  },
  "language_info": {
   "codemirror_mode": {
    "name": "ipython",
    "version": 3
   },
   "file_extension": ".py",
   "mimetype": "text/x-python",
   "name": "python",
   "nbconvert_exporter": "python",
   "pygments_lexer": "ipython3",
   "version": "3.5.5"
  }
 },
 "nbformat": 4,
 "nbformat_minor": 2
}
