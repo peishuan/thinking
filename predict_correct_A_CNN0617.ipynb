{
 "cells": [
  {
   "cell_type": "code",
   "execution_count": 1,
   "metadata": {},
   "outputs": [
    {
     "name": "stderr",
     "output_type": "stream",
     "text": [
      "Using TensorFlow backend.\n"
     ]
    }
   ],
   "source": [
    "from __future__ import print_function\n",
    "from keras.preprocessing import sequence\n",
    "from keras.models import Sequential\n",
    "from keras.layers import Dense, Dropout, Activation\n",
    "from keras.layers import Embedding\n",
    "from keras.layers import Conv1D, GlobalMaxPooling1D\n",
    "\n",
    "import logging\n",
    "import numpy as np\n",
    "import pandas as pd\n",
    "import math\n",
    "import numpy as np"
   ]
  },
  {
   "cell_type": "code",
   "execution_count": 2,
   "metadata": {},
   "outputs": [],
   "source": [
    "#將人工標註結果載入\n",
    "y_train = []\n",
    "data_path = r\"C:\\Users\\peihsuan\\Downloads\\20testing_analysis_CNN\\train_text_whole.txt\"\n",
    "df = pd.read_csv(data_path,encoding='big5')  \n",
    "y_train = df['label']"
   ]
  },
  {
   "cell_type": "code",
   "execution_count": 3,
   "metadata": {},
   "outputs": [
    {
     "name": "stdout",
     "output_type": "stream",
     "text": [
      "862    0\n",
      "863    0\n",
      "864    0\n",
      "865    0\n",
      "866    0\n",
      "867    0\n",
      "868    0\n",
      "869    0\n",
      "870    0\n",
      "871    0\n",
      "Name: label, dtype: int64\n"
     ]
    }
   ],
   "source": [
    "#自第862筆起，都是作答未含有A的部分，因此皆為0\n",
    "print(y_train[862:872])"
   ]
  },
  {
   "cell_type": "code",
   "execution_count": 4,
   "metadata": {},
   "outputs": [],
   "source": [
    "#將學生答案及word embedding載入; word embedding為WIKI corpus以字元為單位計算得出\n",
    "train_text = []\n",
    "data_path = r\"C:\\Users\\peihsuan\\Downloads\\20testing_analysis_CNN\\text_embedding.csv\"\n",
    "df = pd.read_csv(data_path,encoding= 'big5',sep = ';') \n",
    "train_text = df['text']"
   ]
  },
  {
   "cell_type": "code",
   "execution_count": 5,
   "metadata": {},
   "outputs": [
    {
     "name": "stdout",
     "output_type": "stream",
     "text": [
      "862    植物\n",
      "863    自然\n",
      "864    自然\n",
      "865    褐色\n",
      "866    自然\n",
      "867    棕色\n",
      "868    堅硬\n",
      "869    曲線\n",
      "870    影子\n",
      "871    棺材\n",
      "Name: text, dtype: object\n"
     ]
    }
   ],
   "source": [
    "print(train_text[862:872])"
   ]
  },
  {
   "cell_type": "code",
   "execution_count": 6,
   "metadata": {},
   "outputs": [],
   "source": [
    "#將文字embedding作為其中一項feature儲存\n",
    "x_train_seq_tmp = []\n",
    "x_train_seq_tmp = df['embeddings']"
   ]
  },
  {
   "cell_type": "code",
   "execution_count": 7,
   "metadata": {},
   "outputs": [],
   "source": [
    "#將embedding轉為數字陣列以利訓練\n",
    "tmp = []\n",
    "x_train_seq = []\n",
    "for items in range(0,len(x_train_seq_tmp)):\n",
    "    tmp=np.fromstring(x_train_seq_tmp[items], dtype=float, sep=',')\n",
    "    x_train_seq.append(tmp)\n",
    "    tmp = []"
   ]
  },
  {
   "cell_type": "code",
   "execution_count": 8,
   "metadata": {},
   "outputs": [
    {
     "name": "stdout",
     "output_type": "stream",
     "text": [
      "1700\n"
     ]
    }
   ],
   "source": [
    "#訓練集包含1700筆資料\n",
    "print(len(train_text))"
   ]
  },
  {
   "cell_type": "code",
   "execution_count": 9,
   "metadata": {},
   "outputs": [
    {
     "name": "stdout",
     "output_type": "stream",
     "text": [
      "1700\n"
     ]
    }
   ],
   "source": [
    "#1700筆訓練資料含有1700筆對應的人工標註結果\n",
    "print(len(y_train))"
   ]
  },
  {
   "cell_type": "code",
   "execution_count": 10,
   "metadata": {},
   "outputs": [
    {
     "name": "stdout",
     "output_type": "stream",
     "text": [
      "250\n"
     ]
    }
   ],
   "source": [
    "#每一項作答都以250維的word embedding表示\n",
    "print(len(x_train_seq[872]))"
   ]
  },
  {
   "cell_type": "code",
   "execution_count": 11,
   "metadata": {},
   "outputs": [
    {
     "name": "stdout",
     "output_type": "stream",
     "text": [
      "[ 0.0167358   0.32378578 -0.12206512  0.14157685  0.29918178 -0.14039293\n",
      " -0.05648178 -0.08206047 -0.20844277  0.03411076  0.16942408 -0.16063007\n",
      "  0.13802258  0.06235021  0.243707   -0.10127981  0.07997448 -0.02740395\n",
      "  0.09291904  0.09279155  0.04302995 -0.05080377  0.11251055 -0.04393205\n",
      "  0.0550322  -0.16994816  0.06367439  0.31051888 -0.0170423  -0.11970894\n",
      "  0.03552399 -0.24983939  0.13912353 -0.12832299 -0.01908268 -0.16642417\n",
      "  0.04651336 -0.1476863  -0.25862549 -0.16275316  0.15525897 -0.23722823\n",
      " -0.04380455  0.01471271  0.08524326  0.30112175 -0.30158166 -0.14922547\n",
      " -0.12505956 -0.20322293 -0.01562159  0.26198085  0.10148319 -0.02446998\n",
      "  0.08523886  0.01558867  0.11279298  0.19272751  0.18557676  0.09709603\n",
      "  0.07402777  0.05322942 -0.16063442  0.10042018 -0.07590208 -0.19441626\n",
      " -0.01569439 -0.00569171 -0.037163   -0.03143425  0.14189027  0.18877137\n",
      " -0.17612664  0.15194623  0.2045658   0.01889552 -0.07590176  0.00844098\n",
      " -0.02390475  0.28941439  0.09670511  0.19864716 -0.22084113 -0.05282285\n",
      "  0.07748235 -0.10515298  0.0036289   0.13270144 -0.05523764  0.22353141\n",
      " -0.13957743 -0.01117724 -0.12614959  0.10760864 -0.26678936 -0.04624574\n",
      " -0.14368043 -0.02083282  0.08574853  0.09437307 -0.18389857 -0.17486982\n",
      "  0.04888065  0.24345928  0.0086975  -0.04097777  0.24131129  0.06781777\n",
      " -0.06302326 -0.0826766   0.00536151  0.26028625 -0.01364393  0.02100869\n",
      " -0.18593272  0.05888445 -0.00724072  0.0415999  -0.09671234 -0.0177349\n",
      "  0.1460255  -0.00830227  0.19515435 -0.07448302 -0.03691562  0.03679143\n",
      "  0.13212921  0.07015489  0.09711165 -0.09102151  0.07570435  0.01603688\n",
      "  0.00863265 -0.04679118  0.0591144  -0.04088013  0.06926189 -0.16211455\n",
      " -0.06093867 -0.10617625  0.02314907  0.00832474 -0.17523499  0.12233357\n",
      " -0.06681573 -0.12171836 -0.1048134   0.14451515  0.00952236  0.05602781\n",
      "  0.03397848 -0.08701793  0.11264151 -0.04952364  0.12316352  0.01186836\n",
      " -0.20650196  0.11130842  0.01544579 -0.05363626  0.37572459  0.02995507\n",
      "  0.10618863 -0.01034089 -0.10248621 -0.00249254  0.18241233 -0.05645946\n",
      "  0.00304469  0.0105072  -0.04701246  0.19005748  0.07844226 -0.05833995\n",
      "  0.01141951  0.04411551  0.02076829  0.1169717   0.13419356  0.11619693\n",
      " -0.17536553 -0.04784704  0.1054333   0.05540938 -0.05307637  0.03231307\n",
      " -0.08334302 -0.07459026  0.04154644 -0.1157696   0.20726929 -0.02474608\n",
      "  0.08784327 -0.29512636  0.0469519  -0.03123806  0.21772929  0.041406\n",
      "  0.05062563  0.07177525 -0.19847325  0.13078119  0.04559846 -0.07936488\n",
      "  0.07154244  0.17787611 -0.13114172 -0.0144058  -0.1465758   0.00420732\n",
      " -0.08300942 -0.30856144 -0.10407815 -0.07798693  0.23587179  0.2614997\n",
      "  0.03183753  0.05130147 -0.00655107 -0.19732787 -0.05794744  0.33088716\n",
      "  0.00267056  0.00800951 -0.10117346 -0.07393731 -0.20870443 -0.174076\n",
      " -0.08640196  0.0754735  -0.24630119  0.19181291  0.04019157  0.0238409\n",
      "  0.00747421  0.08289815  0.11426451  0.33721991  0.09666638  0.0743185\n",
      " -0.03376968 -0.10388867  0.15221077  0.22125415 -0.21638566 -0.0145271\n",
      "  0.28691785 -0.00399417  0.13222965 -0.03207952]\n"
     ]
    }
   ],
   "source": [
    "#觀看embedding內容\n",
    "print((x_train_seq[872]))"
   ]
  },
  {
   "cell_type": "code",
   "execution_count": 12,
   "metadata": {},
   "outputs": [],
   "source": [
    "#將訓練資料切分為訓練及測試; data後30筆為測試\n",
    "#train_size = int(len(train_text) * 0.8)\n",
    "train_textembedding, test_textembedding = x_train_seq[:1670], x_train_seq[1670:]\n",
    "y_train_predict, y_test_predict = y_train[:1670],y_train[1670:]"
   ]
  },
  {
   "cell_type": "code",
   "execution_count": 13,
   "metadata": {},
   "outputs": [],
   "source": [
    "# set parameters:\n",
    "max_features = 5000\n",
    "maxlen = 400\n",
    "batch_size = 32\n",
    "embedding_dims = 250\n",
    "filters = 250\n",
    "kernel_size = 3\n",
    "hidden_dims = 250\n",
    "epochs = 2"
   ]
  },
  {
   "cell_type": "code",
   "execution_count": 14,
   "metadata": {},
   "outputs": [
    {
     "name": "stdout",
     "output_type": "stream",
     "text": [
      "Pad sequences (samples x time)\n",
      "train_textembedding shape: (1670, 400)\n",
      "test_textembedding shape: (30, 400)\n"
     ]
    }
   ],
   "source": [
    "print('Pad sequences (samples x time)')\n",
    "train_textembedding = sequence.pad_sequences(train_textembedding, maxlen=maxlen)\n",
    "test_textembedding = sequence.pad_sequences(test_textembedding, maxlen=maxlen)\n",
    "print('train_textembedding shape:', train_textembedding.shape)\n",
    "print('test_textembedding shape:', test_textembedding.shape)"
   ]
  },
  {
   "cell_type": "code",
   "execution_count": 15,
   "metadata": {},
   "outputs": [
    {
     "name": "stdout",
     "output_type": "stream",
     "text": [
      "Build model...\n",
      "_________________________________________________________________\n",
      "Layer (type)                 Output Shape              Param #   \n",
      "=================================================================\n",
      "embedding_1 (Embedding)      (None, 400, 250)          1250000   \n",
      "_________________________________________________________________\n",
      "dropout_1 (Dropout)          (None, 400, 250)          0         \n",
      "_________________________________________________________________\n",
      "conv1d_1 (Conv1D)            (None, 398, 250)          187750    \n",
      "_________________________________________________________________\n",
      "global_max_pooling1d_1 (Glob (None, 250)               0         \n",
      "_________________________________________________________________\n",
      "dense_1 (Dense)              (None, 250)               62750     \n",
      "_________________________________________________________________\n",
      "dropout_2 (Dropout)          (None, 250)               0         \n",
      "_________________________________________________________________\n",
      "activation_1 (Activation)    (None, 250)               0         \n",
      "_________________________________________________________________\n",
      "dense_2 (Dense)              (None, 1)                 251       \n",
      "_________________________________________________________________\n",
      "activation_2 (Activation)    (None, 1)                 0         \n",
      "=================================================================\n",
      "Total params: 1,500,751\n",
      "Trainable params: 1,500,751\n",
      "Non-trainable params: 0\n",
      "_________________________________________________________________\n"
     ]
    }
   ],
   "source": [
    "print('Build model...')\n",
    "model = Sequential()\n",
    "\n",
    "# we start off with an efficient embedding layer which maps\n",
    "# our vocab indices into embedding_dims dimensions\n",
    "model.add(Embedding(max_features,\n",
    "                    embedding_dims,\n",
    "                    input_length=maxlen))\n",
    "model.add(Dropout(0.2))\n",
    "\n",
    "# we add a Convolution1D, which will learn filters\n",
    "# word group filters of size filter_length:\n",
    "model.add(Conv1D(filters,\n",
    "                 kernel_size,\n",
    "                 padding='valid',\n",
    "                 activation='relu',\n",
    "                 strides=1))\n",
    "# we use max pooling:\n",
    "model.add(GlobalMaxPooling1D())\n",
    "\n",
    "# We add a vanilla hidden layer:\n",
    "model.add(Dense(hidden_dims))\n",
    "model.add(Dropout(0.2))\n",
    "model.add(Activation('relu'))\n",
    "\n",
    "# We project onto a single unit output layer, and squash it with a sigmoid:\n",
    "model.add(Dense(1))\n",
    "model.add(Activation('sigmoid'))\n",
    "model.summary()"
   ]
  },
  {
   "cell_type": "code",
   "execution_count": 16,
   "metadata": {},
   "outputs": [],
   "source": [
    "model.compile(loss='binary_crossentropy', optimizer='adam', metrics=['accuracy'])"
   ]
  },
  {
   "cell_type": "code",
   "execution_count": 17,
   "metadata": {},
   "outputs": [
    {
     "name": "stdout",
     "output_type": "stream",
     "text": [
      "Train on 1336 samples, validate on 334 samples\n",
      "Epoch 1/20\n",
      " - 9s - loss: 0.6289 - acc: 0.6901 - val_loss: 0.4224 - val_acc: 0.9910\n",
      "Epoch 2/20\n",
      " - 9s - loss: 0.6242 - acc: 0.6901 - val_loss: 0.4519 - val_acc: 0.9910\n",
      "Epoch 3/20\n",
      " - 9s - loss: 0.6226 - acc: 0.6901 - val_loss: 0.4319 - val_acc: 0.9910\n",
      "Epoch 4/20\n",
      " - 8s - loss: 0.6232 - acc: 0.6901 - val_loss: 0.3693 - val_acc: 0.9910\n",
      "Epoch 5/20\n",
      " - 9s - loss: 0.6244 - acc: 0.6901 - val_loss: 0.4207 - val_acc: 0.9910\n",
      "Epoch 6/20\n",
      " - 9s - loss: 0.6196 - acc: 0.6901 - val_loss: 0.4820 - val_acc: 0.9910\n",
      "Epoch 7/20\n",
      " - 9s - loss: 0.6206 - acc: 0.6901 - val_loss: 0.5392 - val_acc: 0.9910\n",
      "Epoch 8/20\n",
      " - 9s - loss: 0.6242 - acc: 0.6901 - val_loss: 0.3565 - val_acc: 0.9910\n",
      "Epoch 9/20\n",
      " - 9s - loss: 0.6242 - acc: 0.6901 - val_loss: 0.3901 - val_acc: 0.9910\n",
      "Epoch 10/20\n",
      " - 9s - loss: 0.6222 - acc: 0.6901 - val_loss: 0.4099 - val_acc: 0.9910\n",
      "Epoch 11/20\n",
      " - 8s - loss: 0.6210 - acc: 0.6901 - val_loss: 0.4062 - val_acc: 0.9910\n",
      "Epoch 12/20\n",
      " - 8s - loss: 0.6228 - acc: 0.6901 - val_loss: 0.4826 - val_acc: 0.9910\n",
      "Epoch 13/20\n",
      " - 8s - loss: 0.6197 - acc: 0.6901 - val_loss: 0.4270 - val_acc: 0.9910\n",
      "Epoch 14/20\n",
      " - 8s - loss: 0.6215 - acc: 0.6901 - val_loss: 0.4747 - val_acc: 0.9910\n",
      "Epoch 15/20\n",
      " - 8s - loss: 0.6189 - acc: 0.6901 - val_loss: 0.4104 - val_acc: 0.9910\n",
      "Epoch 16/20\n",
      " - 8s - loss: 0.6215 - acc: 0.6901 - val_loss: 0.4552 - val_acc: 0.9910\n",
      "Epoch 17/20\n",
      " - 8s - loss: 0.6196 - acc: 0.6901 - val_loss: 0.3975 - val_acc: 0.9910\n",
      "Epoch 18/20\n",
      " - 8s - loss: 0.6218 - acc: 0.6901 - val_loss: 0.4439 - val_acc: 0.9910\n",
      "Epoch 19/20\n",
      " - 8s - loss: 0.6206 - acc: 0.6901 - val_loss: 0.4620 - val_acc: 0.9910\n",
      "Epoch 20/20\n",
      " - 8s - loss: 0.6202 - acc: 0.6901 - val_loss: 0.3792 - val_acc: 0.9910\n"
     ]
    }
   ],
   "source": [
    "train_history =model.fit(np.array(train_textembedding), np.array(y_train_predict),batch_size=50, epochs=20,verbose=2,validation_split=0.2)"
   ]
  },
  {
   "cell_type": "code",
   "execution_count": 18,
   "metadata": {},
   "outputs": [
    {
     "name": "stdout",
     "output_type": "stream",
     "text": [
      "Populating the interactive namespace from numpy and matplotlib\n"
     ]
    }
   ],
   "source": [
    "%pylab inline\n",
    "import matplotlib.pyplot as plt\n",
    "def show_train_history(train_history,train,validation):\n",
    "    plt.plot(train_history.history[train])\n",
    "    plt.plot(train_history.history[validation])\n",
    "    plt.title('Train History')\n",
    "    plt.ylabel(train)\n",
    "    plt.xlabel('Epoch')\n",
    "    plt.legend(['train', 'validation'], loc='upper left')\n",
    "    plt.show()"
   ]
  },
  {
   "cell_type": "code",
   "execution_count": 19,
   "metadata": {},
   "outputs": [
    {
     "data": {
      "image/png": "[encoded data removed]",
      "text/plain": [
       "<Figure size 432x288 with 1 Axes>"
      ]
     },
     "metadata": {},
     "output_type": "display_data"
    }
   ],
   "source": [
    "show_train_history(train_history,'acc','val_acc')"
   ]
  },
  {
   "cell_type": "code",
   "execution_count": 20,
   "metadata": {},
   "outputs": [
    {
     "data": {
      "image/png": "[encoded data removed]",
      "text/plain": [
       "<Figure size 432x288 with 1 Axes>"
      ]
     },
     "metadata": {},
     "output_type": "display_data"
    }
   ],
   "source": [
    "show_train_history(train_history,'loss','val_loss')"
   ]
  },
  {
   "cell_type": "code",
   "execution_count": 24,
   "metadata": {},
   "outputs": [
    {
     "name": "stdout",
     "output_type": "stream",
     "text": [
      "\r",
      "30/30 [==============================] - 0s 2ms/step\n"
     ]
    },
    {
     "data": {
      "text/plain": [
       "0.20000000298023224"
      ]
     },
     "execution_count": 24,
     "metadata": {},
     "output_type": "execute_result"
    }
   ],
   "source": [
    "#測試準確率\n",
    "scores = model.evaluate(np.array(test_textembedding), np.array(y_test_predict), verbose=1)\n",
    "scores[1]"
   ]
  },
  {
   "cell_type": "code",
   "execution_count": 28,
   "metadata": {},
   "outputs": [],
   "source": [
    "prediction=model.predict_classes(test_textembedding)"
   ]
  },
  {
   "cell_type": "code",
   "execution_count": 30,
   "metadata": {},
   "outputs": [
    {
     "data": {
      "text/plain": [
       "(30, 1)"
      ]
     },
     "execution_count": 30,
     "metadata": {},
     "output_type": "execute_result"
    }
   ],
   "source": [
    "prediction.shape"
   ]
  },
  {
   "cell_type": "code",
   "execution_count": 32,
   "metadata": {},
   "outputs": [],
   "source": [
    "predict_classes=prediction.reshape(30)"
   ]
  },
  {
   "cell_type": "code",
   "execution_count": 33,
   "metadata": {},
   "outputs": [],
   "source": [
    "SentimentDict={1:'屬於A',0:'不屬於A'}\n",
    "def display_test_Sentiment(i):\n",
    "    print(train_text[i+1670])\n",
    "    print('標籤label:',SentimentDict[y_train[i+1670]],'預測結果:',SentimentDict[predict_classes[i]])"
   ]
  },
  {
   "cell_type": "code",
   "execution_count": 34,
   "metadata": {},
   "outputs": [
    {
     "name": "stdout",
     "output_type": "stream",
     "text": [
      "可觸碰\n",
      "標籤label: 屬於A 預測結果: 不屬於A\n",
      "\n",
      "\n",
      "接觸\n",
      "標籤label: 屬於A 預測結果: 不屬於A\n",
      "\n",
      "\n",
      "可扭曲\n",
      "標籤label: 屬於A 預測結果: 不屬於A\n",
      "\n",
      "\n",
      "可腐敗\n",
      "標籤label: 屬於A 預測結果: 不屬於A\n",
      "\n",
      "\n",
      "配件\n",
      "標籤label: 屬於A 預測結果: 不屬於A\n",
      "\n",
      "\n",
      "可穿刺\n",
      "標籤label: 屬於A 預測結果: 不屬於A\n",
      "\n",
      "\n",
      "可吸水\n",
      "標籤label: 屬於A 預測結果: 不屬於A\n",
      "\n",
      "\n",
      "吸水\n",
      "標籤label: 屬於A 預測結果: 不屬於A\n",
      "\n",
      "\n",
      "可起火\n",
      "標籤label: 屬於A 預測結果: 不屬於A\n",
      "\n",
      "\n",
      "可染色\n",
      "標籤label: 屬於A 預測結果: 不屬於A\n",
      "\n",
      "\n",
      "扁平\n",
      "標籤label: 屬於A 預測結果: 不屬於A\n",
      "\n",
      "\n",
      "飾品\n",
      "標籤label: 屬於A 預測結果: 不屬於A\n",
      "\n",
      "\n",
      "衣衫\n",
      "標籤label: 屬於A 預測結果: 不屬於A\n",
      "\n",
      "\n",
      "鬆軟\n",
      "標籤label: 屬於A 預測結果: 不屬於A\n",
      "\n",
      "\n",
      "靜物\n",
      "標籤label: 屬於A 預測結果: 不屬於A\n",
      "\n",
      "\n",
      "扭轉\n",
      "標籤label: 屬於A 預測結果: 不屬於A\n",
      "\n",
      "\n",
      "洗滌\n",
      "標籤label: 屬於A 預測結果: 不屬於A\n",
      "\n",
      "\n",
      "好捏\n",
      "標籤label: 屬於A 預測結果: 不屬於A\n",
      "\n",
      "\n",
      "耐揉捏\n",
      "標籤label: 屬於A 預測結果: 不屬於A\n",
      "\n",
      "\n",
      "強韌\n",
      "標籤label: 屬於A 預測結果: 不屬於A\n",
      "\n",
      "\n",
      "縞素\n",
      "標籤label: 屬於A 預測結果: 不屬於A\n",
      "\n",
      "\n",
      "冒黴菌\n",
      "標籤label: 屬於A 預測結果: 不屬於A\n",
      "\n",
      "\n",
      "高透風\n",
      "標籤label: 屬於A 預測結果: 不屬於A\n",
      "\n",
      "\n",
      "勻和\n",
      "標籤label: 屬於A 預測結果: 不屬於A\n",
      "\n",
      "\n",
      "耐切割\n",
      "標籤label: 不屬於A 預測結果: 不屬於A\n",
      "\n",
      "\n",
      "禁入境\n",
      "標籤label: 不屬於A 預測結果: 不屬於A\n",
      "\n",
      "\n",
      "雕刻\n",
      "標籤label: 不屬於A 預測結果: 不屬於A\n",
      "\n",
      "\n",
      "黏度高\n",
      "標籤label: 不屬於A 預測結果: 不屬於A\n",
      "\n",
      "\n",
      "導電\n",
      "標籤label: 不屬於A 預測結果: 不屬於A\n",
      "\n",
      "\n",
      "劇毒\n",
      "標籤label: 不屬於A 預測結果: 不屬於A\n",
      "\n",
      "\n"
     ]
    }
   ],
   "source": [
    "for i in range(0,30):\n",
    "    display_test_Sentiment(i)\n",
    "    print(\"\\n\")"
   ]
  },
  {
   "cell_type": "code",
   "execution_count": null,
   "metadata": {},
   "outputs": [],
   "source": []
  }
 ],
 "metadata": {
  "kernelspec": {
   "display_name": "Python 3",
   "language": "python",
   "name": "python3"
  },
  "language_info": {
   "codemirror_mode": {
    "name": "ipython",
    "version": 3
   },
   "file_extension": ".py",
   "mimetype": "text/x-python",
   "name": "python",
   "nbconvert_exporter": "python",
   "pygments_lexer": "ipython3",
   "version": "3.5.5"
  }
 },
 "nbformat": 4,
 "nbformat_minor": 2
}
